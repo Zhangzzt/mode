{
 "cells": [
  {
   "cell_type": "markdown",
   "metadata": {},
   "source": [
    "# 循环\n",
    "- 循环是一种控制语句块重复执行的结构\n",
    "- while  适用于广度遍历\n",
    "- for    开发中经常使用"
   ]
  },
  {
   "cell_type": "code",
   "execution_count": 1,
   "metadata": {},
   "outputs": [
    {
     "ename": "KeyboardInterrupt",
     "evalue": "",
     "output_type": "error",
     "traceback": [
      "\u001b[1;31m---------------------------------------------------------------------------\u001b[0m",
      "\u001b[1;31mKeyboardInterrupt\u001b[0m                         Traceback (most recent call last)",
      "\u001b[1;32m<ipython-input-1-a7beb8117a6e>\u001b[0m in \u001b[0;36m<module>\u001b[1;34m()\u001b[0m\n\u001b[0;32m      1\u001b[0m \u001b[1;32mimport\u001b[0m \u001b[0mos\u001b[0m\u001b[1;33m\u001b[0m\u001b[0m\n\u001b[0;32m      2\u001b[0m \u001b[1;32mwhile\u001b[0m \u001b[1;36m1\u001b[0m\u001b[1;33m:\u001b[0m\u001b[1;33m\u001b[0m\u001b[0m\n\u001b[1;32m----> 3\u001b[1;33m     \u001b[0mos\u001b[0m\u001b[1;33m.\u001b[0m\u001b[0msystem\u001b[0m\u001b[1;33m(\u001b[0m\u001b[1;34m\" say 你真是个小天才！！！\"\u001b[0m\u001b[1;33m)\u001b[0m\u001b[1;33m\u001b[0m\u001b[0m\n\u001b[0m",
      "\u001b[1;31mKeyboardInterrupt\u001b[0m: "
     ]
    }
   ],
   "source": [
    "import os\n",
    "while 1:\n",
    "    os.system(\" say 你真是个小天才！！！\")"
   ]
  },
  {
   "cell_type": "markdown",
   "metadata": {},
   "source": [
    "## while 循环\n",
    "- 当一个条件保持真的时候while循环重复执行语句\n",
    "- while 循环一定要有结束条件，否则很容易进入死循环\n",
    "- while 循环的语法是：\n",
    "\n",
    "    while loop-contunuation-conndition:\n",
    "\n",
    "        Statement"
   ]
  },
  {
   "cell_type": "markdown",
   "metadata": {},
   "source": [
    "## 示例：\n",
    "sum = 0\n",
    "\n",
    "i = 1\n",
    "\n",
    "while i <10:\n",
    "\n",
    "    sum = sum + i\n",
    "    i = i + 1"
   ]
  },
  {
   "cell_type": "code",
   "execution_count": 3,
   "metadata": {},
   "outputs": [
    {
     "name": "stdout",
     "output_type": "stream",
     "text": [
      "1\n",
      "3\n",
      "6\n",
      "10\n",
      "15\n",
      "21\n",
      "28\n",
      "36\n",
      "45\n"
     ]
    }
   ],
   "source": [
    "sum_ = 0\n",
    "i = 1\n",
    "while i<10:\n",
    "    sum_ = sum_ + i\n",
    "    i = i +1\n",
    "    print(sum_)"
   ]
  },
  {
   "cell_type": "markdown",
   "metadata": {},
   "source": [
    "## 错误示例：\n",
    "sum = 0\n",
    "\n",
    "i = 1\n",
    "\n",
    "while i <10:\n",
    "\n",
    "    sum = sum + i\n",
    "\n",
    "i = i + 1\n",
    "- 一旦进入死循环可按 Ctrl + c 停止"
   ]
  },
  {
   "cell_type": "code",
   "execution_count": null,
   "metadata": {},
   "outputs": [],
   "source": [
    "sum_ = 0\n",
    "i = 1\n",
    "\n",
    "while i <10:\n",
    "\n",
    "     sum_ = sum_ + i\n",
    "i = i + 1"
   ]
  },
  {
   "cell_type": "markdown",
   "metadata": {},
   "source": [
    "## EP：\n",
    "![](../Photo/143.png)\n",
    "![](../Photo/144.png)"
   ]
  },
  {
   "cell_type": "markdown",
   "metadata": {},
   "source": [
    "# 验证码\n",
    "- 随机产生四个字母的验证码，如果正确，输出验证码正确。如果错误，产生新的验证码，用户重新输入。\n",
    "- 验证码只能输入三次，如果三次都错，返回“别爬了，我们小网站没什么好爬的”\n",
    "- 密码登录，如果三次错误，账号被锁定\n"
   ]
  },
  {
   "cell_type": "code",
   "execution_count": 50,
   "metadata": {},
   "outputs": [
    {
     "name": "stdout",
     "output_type": "stream",
     "text": [
      "8034\n",
      "请输入验证码：255\n",
      "输入错误，请重新输入！\n",
      "请输入验证码：8034\n",
      "欢迎您！\n",
      "欢迎您！\n"
     ]
    }
   ],
   "source": [
    "import random\n",
    "a = random.randint(0,9)\n",
    "\n",
    "b = random.randint(0,9)\n",
    "\n",
    "c = random.randint(0,9)\n",
    "\n",
    "d = random.randint(0,9)\n",
    "\n",
    "m = str(a)+str(b)+str(c)+str(d)\n",
    "\n",
    "print(m)\n",
    "\n",
    "mun = (input(\"请输入验证码：\"))\n",
    "\n",
    "if mun==m:\n",
    "    print(\"欢迎您！\")\n",
    "elif mun!=m:\n",
    "    print(\"输入错误，请重新输入！\")\n",
    "    mun = (input(\"请输入验证码：\"))\n",
    "    if  mun==m:\n",
    "         print(\"欢迎您！\")\n",
    "    elif mun!=m:\n",
    "         print(\"输入错误，请重新输入！\")\n",
    "    if  mun==m:\n",
    "         print(\"欢迎您！\")       \n",
    "else:\n",
    "    print(\"别爬了！\")"
   ]
  },
  {
   "cell_type": "code",
   "execution_count": null,
   "metadata": {},
   "outputs": [],
   "source": [
    "import random\n",
    "i = 0\n",
    "while i <3 :\n",
    "    yanzhengma = str(random.randint(1000,9999))\n",
    "    print('验证码是:',yanzhengma)\n",
    "    input_ = input('>>')\n",
    "    if yanzhengma == input_:\n",
    "        print('验证码正确')\n",
    "        break\n",
    "    else:\n",
    "        print('请再输入')\n",
    "        i +=1\n",
    "#     if i ==3:\n",
    "#         print('验证码次数超限')\n",
    "else:\n",
    "    print('验证码次数超限')"
   ]
  },
  {
   "cell_type": "code",
   "execution_count": 51,
   "metadata": {},
   "outputs": [
    {
     "name": "stdout",
     "output_type": "stream",
     "text": [
      "验证码是: brtm\n",
      ">>brtm\n",
      "验证码正确\n"
     ]
    }
   ],
   "source": [
    "import random\n",
    "i = 0\n",
    "while i <3 :\n",
    "    yanzhengma1 = chr(random.randint(97,122))\n",
    "    yanzhengma2 = chr(random.randint(97,122))\n",
    "    yanzhengma3 = chr(random.randint(97,122))\n",
    "    yanzhengma4 = chr(random.randint(97,122))\n",
    "    yanzhengma = yanzhengma1 + yanzhengma2+ yanzhengma3 + yanzhengma4\n",
    "    \n",
    "    print('验证码是:',yanzhengma)\n",
    "    input_ = input('>>')\n",
    "    if yanzhengma == input_:\n",
    "        print('验证码正确')\n",
    "        break\n",
    "    else:\n",
    "        print('请再输入')\n",
    "        i +=1\n",
    "#     if i ==3:\n",
    "#         print('验证码次数超限')\n",
    "else:\n",
    "    print('验证码次数超限')"
   ]
  },
  {
   "cell_type": "code",
   "execution_count": 52,
   "metadata": {},
   "outputs": [
    {
     "name": "stdout",
     "output_type": "stream",
     "text": [
      "验证码是: y0cp\n",
      ">>y0cp\n",
      "验证码正确\n"
     ]
    }
   ],
   "source": [
    "import random\n",
    "i = 0\n",
    "while i <3 :\n",
    "    list_ = ['1','2','3','4','5','6','7','8','9','0','q','w','e','r','t','y','u','i','o','p','a','s','d','f','g','h','j','k','l','z','x','c','v','n','m']\n",
    "    random.shuffle(list_)\n",
    "    yanzhengma = ''.join(list_[0:4])\n",
    "    print('验证码是:',yanzhengma)\n",
    "    input_ = input('>>')\n",
    "    \n",
    "    if yanzhengma == input_:\n",
    "        print('验证码正确')\n",
    "        break\n",
    "    else:\n",
    "        print('请再输入')\n",
    "        i +=1\n",
    "#     if i ==3:\n",
    "#         print('验证码次数超限')\n",
    "else:\n",
    "    print('验证码次数超限')"
   ]
  },
  {
   "cell_type": "markdown",
   "metadata": {},
   "source": [
    "## 尝试死循环"
   ]
  },
  {
   "cell_type": "markdown",
   "metadata": {},
   "source": [
    "## 实例研究：猜数字\n",
    "- 你将要编写一个能够随机生成一个0到10之间的且包括两者的数字程序，这个程序\n",
    "- 提示用户连续地输入数字直到正确，且提示用户输入的数字是过高还是过低"
   ]
  },
  {
   "cell_type": "markdown",
   "metadata": {},
   "source": [
    "## 使用哨兵值来控制循环\n",
    "- 哨兵值来表明输入的结束\n",
    "- ![](../Photo/54.png)"
   ]
  },
  {
   "cell_type": "markdown",
   "metadata": {},
   "source": [
    "## 警告\n",
    "![](../Photo/55.png)"
   ]
  },
  {
   "cell_type": "markdown",
   "metadata": {},
   "source": [
    "## for 循环\n",
    "- Python的for 循环通过一个序列中的每个值来进行迭代\n",
    "- range(a,b,k)， a，b，k 必须为整数\n",
    "- a: start\n",
    "- b: end\n",
    "- k: step\n",
    "- 注意for 是循环一切可迭代对象，而不是只能使用range"
   ]
  },
  {
   "cell_type": "markdown",
   "metadata": {},
   "source": [
    "# 在Python里面一切皆对象"
   ]
  },
  {
   "cell_type": "markdown",
   "metadata": {},
   "source": [
    "## EP:\n",
    "- ![](../Photo/145.png)"
   ]
  },
  {
   "cell_type": "code",
   "execution_count": 8,
   "metadata": {},
   "outputs": [
    {
     "name": "stdout",
     "output_type": "stream",
     "text": [
      "10011\n"
     ]
    }
   ],
   "source": [
    "i = 1\n",
    "sum_ = 0\n",
    "while sum_< 10000:\n",
    "    sum_ +=i\n",
    "    i+=1\n",
    "print(sum_)"
   ]
  },
  {
   "cell_type": "code",
   "execution_count": null,
   "metadata": {},
   "outputs": [],
   "source": []
  },
  {
   "cell_type": "code",
   "execution_count": 3,
   "metadata": {},
   "outputs": [
    {
     "name": "stdout",
     "output_type": "stream",
     "text": [
      "Enter :2\n",
      "Enter :3\n",
      "Enter :4\n",
      "Enter :5\n",
      "Enter :0\n",
      "mun is14\n",
      "i is 5\n"
     ]
    }
   ],
   "source": [
    "mun =0\n",
    "sm = 0\n",
    "i=0\n",
    "while i <5:\n",
    "    mun = eval(input(\"Enter :\"))\n",
    "    sm += mun\n",
    "    i+=1\n",
    "    \n",
    "print(\"mun is\"+str(sm))\n",
    "print(\"i is \"+str(i))\n"
   ]
  },
  {
   "cell_type": "code",
   "execution_count": 5,
   "metadata": {},
   "outputs": [
    {
     "name": "stdout",
     "output_type": "stream",
     "text": [
      "500500\n"
     ]
    }
   ],
   "source": [
    "sum_ =0\n",
    "for i in range(1001):\n",
    "    sum_ +=i\n",
    "print(sum_)"
   ]
  },
  {
   "cell_type": "code",
   "execution_count": 4,
   "metadata": {},
   "outputs": [
    {
     "name": "stdout",
     "output_type": "stream",
     "text": [
      "500500\n"
     ]
    }
   ],
   "source": [
    "sum_ =0 \n",
    "i=0\n",
    "while i<1001:\n",
    "    sum_+=i\n",
    "    i+=1\n",
    "print(sum_)"
   ]
  },
  {
   "cell_type": "code",
   "execution_count": null,
   "metadata": {},
   "outputs": [],
   "source": []
  },
  {
   "cell_type": "markdown",
   "metadata": {},
   "source": [
    "## 嵌套循环\n",
    "- 一个循环可以嵌套另一个循环\n",
    "- 每次循环外层时，内层循环都会被刷新重新完成循环\n",
    "- 也就是说，大循环执行一次，小循环会全部执行一次\n",
    "- 注意：\n",
    "> - 多层循环非常耗时\n",
    "  - 最多使用3层循环"
   ]
  },
  {
   "cell_type": "code",
   "execution_count": 14,
   "metadata": {},
   "outputs": [
    {
     "name": "stdout",
     "output_type": "stream",
     "text": [
      "0 0\n",
      "0 1\n",
      "0 2\n",
      "0 3\n",
      "0 4\n",
      "0 5\n",
      "0 6\n",
      "0 7\n",
      "0 8\n",
      "0 9\n",
      "1 0\n",
      "1 1\n",
      "1 2\n",
      "1 3\n",
      "1 4\n",
      "1 5\n",
      "1 6\n",
      "1 7\n",
      "1 8\n",
      "1 9\n",
      "2 0\n",
      "2 1\n",
      "2 2\n",
      "2 3\n",
      "2 4\n",
      "2 5\n",
      "2 6\n",
      "2 7\n",
      "2 8\n",
      "2 9\n",
      "3 0\n",
      "3 1\n",
      "3 2\n",
      "3 3\n",
      "3 4\n",
      "3 5\n",
      "3 6\n",
      "3 7\n",
      "3 8\n",
      "3 9\n",
      "4 0\n",
      "4 1\n",
      "4 2\n",
      "4 3\n",
      "4 4\n",
      "4 5\n",
      "4 6\n",
      "4 7\n",
      "4 8\n",
      "4 9\n",
      "5 0\n",
      "5 1\n",
      "5 2\n",
      "5 3\n",
      "5 4\n",
      "5 5\n",
      "5 6\n",
      "5 7\n",
      "5 8\n",
      "5 9\n",
      "6 0\n",
      "6 1\n",
      "6 2\n",
      "6 3\n",
      "6 4\n",
      "6 5\n",
      "6 6\n",
      "6 7\n",
      "6 8\n",
      "6 9\n",
      "7 0\n",
      "7 1\n",
      "7 2\n",
      "7 3\n",
      "7 4\n",
      "7 5\n",
      "7 6\n",
      "7 7\n",
      "7 8\n",
      "7 9\n",
      "8 0\n",
      "8 1\n",
      "8 2\n",
      "8 3\n",
      "8 4\n",
      "8 5\n",
      "8 6\n",
      "8 7\n",
      "8 8\n",
      "8 9\n",
      "9 0\n",
      "9 1\n",
      "9 2\n",
      "9 3\n",
      "9 4\n",
      "9 5\n",
      "9 6\n",
      "9 7\n",
      "9 8\n",
      "9 9\n"
     ]
    }
   ],
   "source": [
    "i= 1\n",
    "j = 1\n",
    "for i in range(10):\n",
    "    for j in range(10):\n",
    "        print(i,j)"
   ]
  },
  {
   "cell_type": "markdown",
   "metadata": {},
   "source": [
    "## EP：\n",
    "- 使用多层循环完成9X9乘法表\n",
    "- 显示50以内所有的素数"
   ]
  },
  {
   "cell_type": "code",
   "execution_count": 47,
   "metadata": {},
   "outputs": [
    {
     "name": "stdout",
     "output_type": "stream",
     "text": [
      "1x1=1\t\n",
      "2x1=2\t2x2=4\t\n",
      "3x1=3\t3x2=6\t3x3=9\t\n",
      "4x1=4\t4x2=8\t4x3=12\t4x4=16\t\n",
      "5x1=5\t5x2=10\t5x3=15\t5x4=20\t5x5=25\t\n",
      "6x1=6\t6x2=12\t6x3=18\t6x4=24\t6x5=30\t6x6=36\t\n",
      "7x1=7\t7x2=14\t7x3=21\t7x4=28\t7x5=35\t7x6=42\t7x7=49\t\n",
      "8x1=8\t8x2=16\t8x3=24\t8x4=32\t8x5=40\t8x6=48\t8x7=56\t8x8=64\t\n",
      "9x1=9\t9x2=18\t9x3=27\t9x4=36\t9x5=45\t9x6=54\t9x7=63\t9x8=72\t9x9=81\t\n"
     ]
    }
   ],
   "source": [
    "\n",
    "for i in range(1,10):\n",
    "    for j in range(1,i+1):\n",
    "       \n",
    "        print('{}x{}={}\\t'.format(i,j,i*j),end=\"\")\n",
    "    print()"
   ]
  },
  {
   "cell_type": "code",
   "execution_count": 49,
   "metadata": {},
   "outputs": [
    {
     "name": "stdout",
     "output_type": "stream",
     "text": [
      "2\n",
      "3\n",
      "5\n",
      "7\n",
      "11\n",
      "13\n",
      "17\n",
      "19\n",
      "23\n",
      "29\n",
      "31\n",
      "37\n",
      "41\n",
      "43\n",
      "47\n"
     ]
    }
   ],
   "source": [
    "for i in range(2,51):\n",
    "    for j in range(2,i):\n",
    "        if i%j == 0:\n",
    "            break\n",
    "    else:\n",
    "        print(i)"
   ]
  },
  {
   "cell_type": "markdown",
   "metadata": {},
   "source": [
    "## 关键字 break 和 continue\n",
    "- break 跳出循环，终止循环\n",
    "- continue 跳出此次循环，继续执行"
   ]
  },
  {
   "cell_type": "markdown",
   "metadata": {},
   "source": [
    "## 注意\n",
    "![](../Photo/56.png)\n",
    "![](../Photo/57.png)"
   ]
  },
  {
   "cell_type": "markdown",
   "metadata": {},
   "source": [
    "# Homework\n",
    "- 1 \n",
    "![](../Photo/58.png)"
   ]
  },
  {
   "cell_type": "code",
   "execution_count": 38,
   "metadata": {},
   "outputs": [
    {
     "name": "stdout",
     "output_type": "stream",
     "text": [
      "Enter an integer ,the input ends if it is 0:1\n",
      "Enter an integer ,the input ends if it is 0:2\n",
      "Enter an integer ,the input ends if it is 0:3\n",
      "Enter an integer ,the input ends if it is 0:-2\n",
      "Enter an integer ,the input ends if it is 0:0\n",
      "它们的和：4\n",
      "正数3个\n",
      "负数1个\n",
      "平均值：1.0\n"
     ]
    }
   ],
   "source": [
    "import math\n",
    "mun =int (input(\"Enter an integer ,the input ends if it is 0:\"))\n",
    "if mun==0:\n",
    "    i=0     #判断输入的第一个数是0、负数、还是正数\n",
    "    j=0\n",
    "    sum_1 =sum_2=0\n",
    "elif mun>0:    \n",
    "    i=1   #如果输入的第一数是正数，则i=1、j=0\n",
    "    j=0\n",
    "    sum_1=mun\n",
    "    sum_2=0\n",
    "else:\n",
    "    j=1    # 如果输入的第一个数是负数，则i=0、j=1\n",
    "    i=0\n",
    "    sum_1=0\n",
    "    sum_2=mun\n",
    "while mun!=0:\n",
    "    mun = int(input(\"Enter an integer ,the input ends if it is 0:\"))\n",
    "    if mun>0:\n",
    "        i+=1\n",
    "        sum_1+=mun\n",
    "    elif mun<0:\n",
    "        j+=1 \n",
    "        sum_2+=mun\n",
    "else:\n",
    "    m=(sum_1+sum_2)/(i+j)\n",
    "    print(\"它们的和：\"+str(sum_1+sum_2) ) \n",
    "    print(\"正数\"+str(i)+\"个\")\n",
    "    print(\"负数\"+str(j)+\"个\")\n",
    "    print(\"平均值：\"+str(m))"
   ]
  },
  {
   "cell_type": "markdown",
   "metadata": {},
   "source": [
    "- 2\n",
    "![](../Photo/59.png)"
   ]
  },
  {
   "cell_type": "code",
   "execution_count": 16,
   "metadata": {},
   "outputs": [
    {
     "name": "stdout",
     "output_type": "stream",
     "text": [
      "十年以后的学费： 16288.946267774414\n",
      "十年后大学四年的学费： 68413.57432465254\n"
     ]
    }
   ],
   "source": [
    "sum_=10000\n",
    "j=0\n",
    "i=0\n",
    "sum_2=0\n",
    "sum_1=0\n",
    "while i<10:\n",
    "    sum_=(sum_*0.05)+sum_\n",
    "    i+=1\n",
    "while j<4:\n",
    "    sum_1=sum_\n",
    "    sum_1=(sum_1*0.05)+sum_1\n",
    "    sum_2 +=sum_1\n",
    "    j+=1\n",
    "print(\"十年以后的学费：\",sum_)\n",
    "print(\"十年后大学四年的学费：\",sum_2)\n"
   ]
  },
  {
   "cell_type": "markdown",
   "metadata": {},
   "source": [
    "- 3\n",
    "![](../Photo/58.png)"
   ]
  },
  {
   "cell_type": "code",
   "execution_count": 1,
   "metadata": {},
   "outputs": [
    {
     "name": "stdout",
     "output_type": "stream",
     "text": [
      "Enter an integer ,the input ends if it is 0:1\n",
      "Enter an integer ,the input ends if it is 0:2\n",
      "Enter an integer ,the input ends if it is 0:3\n",
      "Enter an integer ,the input ends if it is 0:-2\n",
      "Enter an integer ,the input ends if it is 0:-3\n",
      "Enter an integer ,the input ends if it is 0:0\n",
      "它们的和：1\n",
      "正数3个\n",
      "负数2个\n",
      "平均值：0.2\n"
     ]
    }
   ],
   "source": [
    "import math\n",
    "mun =int (input(\"Enter an integer ,the input ends if it is 0:\"))\n",
    "if mun==0:\n",
    "    i=0     #判断输入的第一个数是0、负数、还是正数\n",
    "    j=0\n",
    "    sum_1 =sum_2=0\n",
    "elif mun>0:    \n",
    "    i=1   #如果输入的第一数是正数，则i=1、j=0\n",
    "    j=0\n",
    "    sum_1=mun\n",
    "    sum_2=0\n",
    "else:\n",
    "    j=1    # 如果输入的第一个数是负数，则i=0、j=1\n",
    "    i=0\n",
    "    sum_1=0\n",
    "    sum_2=mun\n",
    "while mun!=0:\n",
    "    mun = int(input(\"Enter an integer ,the input ends if it is 0:\"))\n",
    "    if mun>0:\n",
    "        i+=1\n",
    "        sum_1+=mun\n",
    "    elif mun<0:\n",
    "        j+=1 \n",
    "        sum_2+=mun\n",
    "else:\n",
    "    m=(sum_1+sum_2)/(i+j)\n",
    "    print(\"它们的和：\"+str(sum_1+sum_2) ) \n",
    "    print(\"正数\"+str(i)+\"个\")\n",
    "    print(\"负数\"+str(j)+\"个\")\n",
    "    print(\"平均值：\"+str(m))"
   ]
  },
  {
   "cell_type": "markdown",
   "metadata": {},
   "source": [
    "- 4\n",
    "![](../Photo/60.png)"
   ]
  },
  {
   "cell_type": "code",
   "execution_count": 40,
   "metadata": {},
   "outputs": [
    {
     "name": "stdout",
     "output_type": "stream",
     "text": [
      "120 150 180 210 240 270 300 330 360 390 \t\n",
      "420 450 480 510 540 570 600 630 660 690 \t\n",
      "720 750 780 810 840 870 900 930 960 990 \t\n"
     ]
    }
   ],
   "source": [
    "m=0\n",
    "for i in range(100,1000):\n",
    "    if i%5==0 and i%6==0:\n",
    "        m+=1\n",
    "        print(i,end=\" \",)\n",
    "        if m%10==0:\n",
    "            print(\"\\t\")\n",
    "        \n",
    "    else:\n",
    "        i+=1"
   ]
  },
  {
   "cell_type": "markdown",
   "metadata": {},
   "source": [
    "- 5\n",
    "![](../Photo/61.png)"
   ]
  },
  {
   "cell_type": "code",
   "execution_count": 63,
   "metadata": {},
   "outputs": [
    {
     "name": "stdout",
     "output_type": "stream",
     "text": [
      "110\n",
      "22\n"
     ]
    }
   ],
   "source": [
    "n=0\n",
    "while n**2<12000:\n",
    "        n+=1\n",
    "print(n)\n",
    "y =0\n",
    "while y**3<12000:\n",
    "        y+=1\n",
    "print(y-1)\n"
   ]
  },
  {
   "cell_type": "markdown",
   "metadata": {},
   "source": [
    "- 6\n",
    "![](../Photo/62.png)"
   ]
  },
  {
   "cell_type": "markdown",
   "metadata": {},
   "source": [
    "- 7\n",
    "![](../Photo/63.png)"
   ]
  },
  {
   "cell_type": "code",
   "execution_count": 74,
   "metadata": {},
   "outputs": [
    {
     "name": "stdout",
     "output_type": "stream",
     "text": [
      "11.397023948878513\n"
     ]
    }
   ],
   "source": [
    "i=0\n",
    "sum_=0\n",
    "while i<50001:\n",
    "    sum_+=1/(i+1)\n",
    "    i+=1\n",
    "print(sum_)\n"
   ]
  },
  {
   "cell_type": "code",
   "execution_count": 73,
   "metadata": {},
   "outputs": [
    {
     "name": "stdout",
     "output_type": "stream",
     "text": [
      "11.397003949278519\n"
     ]
    }
   ],
   "source": [
    "n=50000\n",
    "sum_=0\n",
    "while n>0:\n",
    "    sum_+=1/n\n",
    "    n -=1\n",
    "print(sum_)"
   ]
  },
  {
   "cell_type": "markdown",
   "metadata": {},
   "source": [
    "- 8\n",
    "![](../Photo/64.png)"
   ]
  },
  {
   "cell_type": "code",
   "execution_count": 61,
   "metadata": {},
   "outputs": [
    {
     "name": "stdout",
     "output_type": "stream",
     "text": [
      "45.124450303050196\n"
     ]
    }
   ],
   "source": [
    "a=1\n",
    "b=3\n",
    "sum_=0\n",
    "\n",
    "while a<98:\n",
    "    sum_+=(a/b)\n",
    "    a+=2\n",
    "    b+=2\n",
    "print(sum_)        \n",
    "    "
   ]
  },
  {
   "cell_type": "markdown",
   "metadata": {},
   "source": [
    "- 9\n",
    "![](../Photo/65.png)"
   ]
  },
  {
   "cell_type": "code",
   "execution_count": null,
   "metadata": {},
   "outputs": [],
   "source": []
  },
  {
   "cell_type": "markdown",
   "metadata": {},
   "source": [
    "- 10 \n",
    "![](../Photo/66.png)"
   ]
  },
  {
   "cell_type": "code",
   "execution_count": null,
   "metadata": {},
   "outputs": [],
   "source": []
  },
  {
   "cell_type": "markdown",
   "metadata": {},
   "source": [
    "- 11\n",
    "![](../Photo/67.png)"
   ]
  },
  {
   "cell_type": "code",
   "execution_count": 79,
   "metadata": {},
   "outputs": [
    {
     "name": "stdout",
     "output_type": "stream",
     "text": [
      "1 1\n",
      "1 2\n",
      "1 3\n",
      "1 4\n",
      "1 5\n",
      "1 6\n",
      "2 1\n",
      "2 2\n",
      "2 3\n",
      "2 4\n",
      "2 5\n",
      "2 6\n",
      "3 1\n",
      "3 2\n",
      "3 3\n",
      "3 4\n",
      "3 5\n",
      "3 6\n",
      "4 1\n",
      "4 2\n",
      "4 3\n",
      "4 4\n",
      "4 5\n",
      "4 6\n",
      "5 1\n",
      "5 2\n",
      "5 3\n",
      "5 4\n",
      "5 5\n",
      "5 6\n",
      "6 1\n",
      "6 2\n",
      "6 3\n",
      "6 4\n",
      "6 5\n",
      "6 6\n"
     ]
    }
   ],
   "source": [
    "for a in range(1,7):\n",
    "    for b in range(1,7):\n",
    "        print(a,b)\n"
   ]
  },
  {
   "cell_type": "markdown",
   "metadata": {},
   "source": [
    "- 12\n",
    "![](../Photo/68.png)"
   ]
  }
 ],
 "metadata": {
  "kernelspec": {
   "display_name": "Python 3",
   "language": "python",
   "name": "python3"
  },
  "language_info": {
   "codemirror_mode": {
    "name": "ipython",
    "version": 3
   },
   "file_extension": ".py",
   "mimetype": "text/x-python",
   "name": "python",
   "nbconvert_exporter": "python",
   "pygments_lexer": "ipython3",
   "version": "3.6.4"
  }
 },
 "nbformat": 4,
 "nbformat_minor": 2
}
