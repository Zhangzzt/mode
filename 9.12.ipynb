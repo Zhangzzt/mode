{
 "cells": [
  {
   "cell_type": "markdown",
   "metadata": {},
   "source": [
    "# 选择\n",
    "## 布尔类型、数值和表达式\n",
    "![](../Photo/33.png)\n",
    "- 注意：比较运算符的相等是两个等到，一个等到代表赋值\n",
    "- 在Python中可以用整型0来代表False，其他数字来代表True\n",
    "- 后面还会讲到 is 在判断语句中的用发"
   ]
  },
  {
   "cell_type": "code",
   "execution_count": 4,
   "metadata": {},
   "outputs": [
    {
     "data": {
      "text/plain": [
       "True"
      ]
     },
     "execution_count": 4,
     "metadata": {},
     "output_type": "execute_result"
    }
   ],
   "source": [
    " 0 == False"
   ]
  },
  {
   "cell_type": "markdown",
   "metadata": {},
   "source": [
    "## 字符串的比较使用ASCII值"
   ]
  },
  {
   "cell_type": "code",
   "execution_count": 6,
   "metadata": {},
   "outputs": [
    {
     "data": {
      "text/plain": [
       "True"
      ]
     },
     "execution_count": 6,
     "metadata": {},
     "output_type": "execute_result"
    }
   ],
   "source": [
    "0< 10 <100\n"
   ]
  },
  {
   "cell_type": "code",
   "execution_count": 22,
   "metadata": {},
   "outputs": [
    {
     "name": "stdout",
     "output_type": "stream",
     "text": [
      "输入一个分数：50\n",
      "不合格\n"
     ]
    }
   ],
   "source": [
    "mun = eval(input(\"输入一个分数：\"))\n",
    "if mun > 90:\n",
    "    print(\"--A\")\n",
    "elif 80< mun <= 90 :\n",
    "    print(\"---B\")\n",
    "elif 60<=mun<=80:\n",
    "    print(\"---C\")\n",
    "elif mun< 60:\n",
    "    print(\"不合格\")"
   ]
  },
  {
   "cell_type": "markdown",
   "metadata": {},
   "source": [
    "## Markdown \n",
    "- https://github.com/younghz/Markdown"
   ]
  },
  {
   "cell_type": "markdown",
   "metadata": {},
   "source": [
    "## EP:\n",
    "- <img src=\"../Photo/34.png\"></img>\n",
    "- 输入一个数字，判断其实奇数还是偶数"
   ]
  },
  {
   "cell_type": "markdown",
   "metadata": {},
   "source": [
    "## 产生随机数字\n",
    "- 函数random.randint(a,b) 可以用来产生一个a和b之间且包括a和b的随机整数"
   ]
  },
  {
   "cell_type": "code",
   "execution_count": 3,
   "metadata": {},
   "outputs": [
    {
     "name": "stdout",
     "output_type": "stream",
     "text": [
      "输入一个数：5\n",
      "太小了\n",
      "输入一个数：6\n",
      "太小了\n",
      "输入一个数：6\n",
      "太小了\n",
      "输入一个数：6\n",
      "太小了\n",
      "输入一个数：6\n",
      "太小了\n",
      "输入一个数：6\n",
      "太小了\n",
      "输入一个数：6\n",
      "太小了\n",
      "输入一个数：6\n",
      "太小了\n",
      "输入一个数：7\n",
      "妈的，终于猜对了！\n"
     ]
    }
   ],
   "source": [
    "#产生一个随机数，你去输入，如果你输入的树大于随机数，那么就告诉你太大了，反之，太小了。。。然后你一直输入，直到他满意为止。\n",
    "import random\n",
    "\n",
    "a = random.randint(3,10)\n",
    "while True:\n",
    "    b = eval(input(\"输入一个数：\"))\n",
    "    if a == b:\n",
    "        print(\"妈的，终于猜对了！\")\n",
    "        break\n",
    "    elif a > b:\n",
    "        print(\"太小了\")\n",
    "    elif a < b:\n",
    "        print(\"太大了\")\n",
    "    "
   ]
  },
  {
   "cell_type": "markdown",
   "metadata": {},
   "source": [
    "##  其他random方法\n",
    "- random.random 返回0.0到1.0之间前闭后开区间的随机浮点\n",
    "- random.randrange(a,b) 前闭后开"
   ]
  },
  {
   "cell_type": "markdown",
   "metadata": {},
   "source": [
    "## EP：\n",
    "- 产生两个随机整数number1和number2，然后显示给用户，使用户输入数字的和，并判定其是否正确\n",
    "- 进阶:写一个随机序号点名程序"
   ]
  },
  {
   "cell_type": "code",
   "execution_count": 18,
   "metadata": {},
   "outputs": [
    {
     "name": "stdout",
     "output_type": "stream",
     "text": [
      ">>3\n",
      "加油！！！\n",
      ">>3\n",
      "加油！！！\n",
      ">>3\n",
      "加油！！！\n",
      ">>3\n",
      "加油！！！\n",
      ">>3\n",
      "加油！！！\n",
      ">>3\n",
      "加油！！！\n",
      ">>3\n",
      "加油！！！\n",
      ">>4\n",
      "加油！！！\n",
      ">>2\n",
      "真棒！\n"
     ]
    }
   ],
   "source": [
    "mun1,mun2 = (random.randint(1,2),random.randint(1,2))\n",
    "sum_ = mun1 + mun2\n",
    "while 1:\n",
    "    p = eval(input(\">>\"))\n",
    "    if p == sum_:\n",
    "        print(\"真棒！\")\n",
    "        break\n",
    "    else:\n",
    "        print(\"加油！！！\")"
   ]
  },
  {
   "cell_type": "code",
   "execution_count": null,
   "metadata": {},
   "outputs": [],
   "source": []
  },
  {
   "cell_type": "markdown",
   "metadata": {},
   "source": [
    "## if语句\n",
    "- 如果条件正确就执行一个单向if语句，亦即当条件为真的时候才执行if内部的语句\n",
    "- Python有很多选择语句:\n",
    "> - 单向if \n",
    "  - 双向if-else\n",
    "  - 嵌套if\n",
    "  - 多向if-elif-else\n",
    "  \n",
    "- 注意：当语句含有子语句的时候，那么一定至少要有一个缩进，也就是说如果有儿子存在，那么一定要缩进\n",
    "- 切记不可tab键和space混用，单用tab 或者 space\n",
    "- 当你输出的结果是无论if是否为真时都需要显示时，语句应该与if对齐"
   ]
  },
  {
   "cell_type": "markdown",
   "metadata": {},
   "source": [
    "## EP：\n",
    "- 用户输入一个数字，判断其实奇数还是偶数\n",
    "- 进阶：可以查看下4.5实例研究猜生日"
   ]
  },
  {
   "cell_type": "markdown",
   "metadata": {},
   "source": [
    "## 双向if-else 语句\n",
    "- 如果条件为真，那么走if内部语句，否则走else内部语句"
   ]
  },
  {
   "cell_type": "code",
   "execution_count": 17,
   "metadata": {},
   "outputs": [
    {
     "name": "stdout",
     "output_type": "stream",
     "text": [
      "年龄：55\n",
      "too old\n"
     ]
    }
   ],
   "source": [
    "age = eval(input(\"年龄：\"))\n",
    "if age <=30:\n",
    "    face = (input(\"长相：\"))\n",
    "    if face == \"好\":\n",
    "        moey = (input(\"收入\"))\n",
    "        if moey == \"高\":\n",
    "            work = (input(\"工作\"))\n",
    "            if work == \"公务员\":\n",
    "                print(\"见面\")\n",
    "            else:\n",
    "                print(\"不见\")\n",
    "        else:\n",
    "            print(\"不高\")\n",
    "    else:\n",
    "        print(\"太丑\")\n",
    "else:\n",
    "    print(\"too old\")"
   ]
  },
  {
   "cell_type": "code",
   "execution_count": null,
   "metadata": {},
   "outputs": [],
   "source": [
    "\n",
    "    \n",
    "        \n",
    "\n"
   ]
  },
  {
   "cell_type": "markdown",
   "metadata": {},
   "source": [
    "## EP：\n",
    "- 产生两个随机整数number1和number2，然后显示给用户，使用户输入数字，并判定其是否正确,如果正确打印“you‘re correct”，否则打印正确错误"
   ]
  },
  {
   "cell_type": "markdown",
   "metadata": {},
   "source": [
    "## 嵌套if 和多向if-elif-else\n",
    "![](../Photo/35.png)"
   ]
  },
  {
   "cell_type": "markdown",
   "metadata": {},
   "source": [
    "## EP：\n",
    "- 提示用户输入一个年份，然后显示表示这一年的动物\n",
    "![](../Photo/36.png)\n",
    "- 计算身体质量指数的程序\n",
    "- BMI = 以千克为单位的体重除以以米为单位的身高\n",
    "![](../Photo/37.png)"
   ]
  },
  {
   "cell_type": "code",
   "execution_count": 13,
   "metadata": {},
   "outputs": [
    {
     "name": "stdout",
     "output_type": "stream",
     "text": [
      "请输入年份：2017\n",
      "鸡\n"
     ]
    }
   ],
   "source": [
    "yera = eval(input(\"请输入年份：\"))\n",
    "\n",
    "if yera % 12 == 0:\n",
    "    print(\"猴年\")\n",
    "elif yera % 12 == 1:\n",
    "    print(\"鸡\")\n",
    "elif yera % 12 == 2:\n",
    "    print(\"狗\")\n",
    "elif yera % 12 == 3:\n",
    "    print(\"猪\")\n",
    "elif yera % 12 == 4:\n",
    "    print(\"鼠\")\n",
    "elif yera % 12 == 5:\n",
    "    print(\"牛\")\n",
    "elif yera % 12 == 6:\n",
    "    print(\"虎\")\n",
    "elif yera % 12 == 7:\n",
    "    print(\"兔\")\n",
    "elif yera % 12 == 8:\n",
    "    print(\"龙\")\n",
    "elif yera % 12 == 9:\n",
    "    print(\"蛇\")\n",
    "elif yera % 12 == 10:\n",
    "    print(\"马\")\n",
    "elif yera % 12 == 11:\n",
    "    print(\"羊\")    \n",
    "\n",
    "else:\n",
    "    print(\"不知道\")    \n",
    "    "
   ]
  },
  {
   "cell_type": "code",
   "execution_count": null,
   "metadata": {},
   "outputs": [],
   "source": []
  },
  {
   "cell_type": "markdown",
   "metadata": {},
   "source": [
    "## 逻辑运算符\n",
    "![](../Photo/38.png)"
   ]
  },
  {
   "cell_type": "code",
   "execution_count": 16,
   "metadata": {},
   "outputs": [
    {
     "data": {
      "text/plain": [
       "True"
      ]
     },
     "execution_count": 16,
     "metadata": {},
     "output_type": "execute_result"
    }
   ],
   "source": [
    "a = [1,2,3]\n",
    "1 in a  #not  False"
   ]
  },
  {
   "cell_type": "code",
   "execution_count": 15,
   "metadata": {},
   "outputs": [
    {
     "data": {
      "text/plain": [
       "False"
      ]
     },
     "execution_count": 15,
     "metadata": {},
     "output_type": "execute_result"
    }
   ],
   "source": [
    "not True"
   ]
  },
  {
   "cell_type": "code",
   "execution_count": 20,
   "metadata": {},
   "outputs": [
    {
     "data": {
      "text/plain": [
       "True"
      ]
     },
     "execution_count": 20,
     "metadata": {},
     "output_type": "execute_result"
    }
   ],
   "source": [
    "age = 20\n",
    "(age < 30) #not False"
   ]
  },
  {
   "cell_type": "markdown",
   "metadata": {},
   "source": [
    "![](../Photo/39.png)\n",
    "![](../Photo/40.png)"
   ]
  },
  {
   "cell_type": "markdown",
   "metadata": {},
   "source": [
    "## EP：\n",
    "- 判定闰年：一个年份如果能被4整除但不能被100整除，或者能被400整除，那么这个年份就是闰年\n",
    "- 提示用户输入一个年份，并返回是否是闰年\n",
    "- 提示用户输入一个数字，判断其是否为水仙花数"
   ]
  },
  {
   "cell_type": "code",
   "execution_count": 3,
   "metadata": {},
   "outputs": [
    {
     "name": "stdout",
     "output_type": "stream",
     "text": [
      "请输入年份：2015\n",
      "非闰月年\n"
     ]
    }
   ],
   "source": [
    "mun = eval(input(\"请输入年份：\"))\n",
    "if (mun%4 ==0 and mun%100 !=0) or (mun%400 ==0):\n",
    "    print(\"是闰月年\")\n",
    "else:\n",
    "    print(\"非闰月年\")\n"
   ]
  },
  {
   "cell_type": "code",
   "execution_count": 20,
   "metadata": {},
   "outputs": [
    {
     "name": "stdout",
     "output_type": "stream",
     "text": [
      "请输入一个数字：153\n",
      "是水仙花数！！\n"
     ]
    }
   ],
   "source": [
    "mun = eval(input(\"请输入一个数字：\"))\n",
    "gewei =mun%10\n",
    "shiwei=(mun//10)%10\n",
    "baiwei=mun//100\n",
    "sum1 = baiwei**3+shiwei**3+gewei**3\n",
    "if sum1==mun:\n",
    "        print(\"是水仙花数！！\")\n",
    "else:\n",
    "        print(\"不是水仙花数！！\")\n",
    "        "
   ]
  },
  {
   "cell_type": "markdown",
   "metadata": {},
   "source": [
    "## 实例研究：彩票\n",
    "![](../Photo/41.png)"
   ]
  },
  {
   "cell_type": "code",
   "execution_count": 35,
   "metadata": {},
   "outputs": [
    {
     "name": "stdout",
     "output_type": "stream",
     "text": [
      "31\n",
      "抽奖：31\n",
      "恭喜您中一等奖\n"
     ]
    }
   ],
   "source": [
    "import random\n",
    "random_1 = random.randint(1,3)\n",
    "random_2 = random.randint(0,3)\n",
    "random_ =str(random_1)+str(random_2)\n",
    "print(random_)\n",
    "mun = (input(\"抽奖：\"))\n",
    "if mun ==random_:\n",
    "    print(\"恭喜您中一等奖\")\n",
    "elif random_[0]==mun[1] and random_[1]==mun[0]:\n",
    "    print(\"恭喜您中二等奖\")\n",
    "elif random_[0]==mun[0] or random_[0]==mun[1] or random_[1]==mun[0] or random_[1]==mun[1]:\n",
    "    print(\"恭喜您中三等奖\")\n",
    "else:\n",
    "    print(\"没有中奖\")"
   ]
  },
  {
   "cell_type": "markdown",
   "metadata": {},
   "source": [
    "# Homework\n",
    "- 1\n",
    "![](../Photo/42.png)"
   ]
  },
  {
   "cell_type": "code",
   "execution_count": 56,
   "metadata": {},
   "outputs": [
    {
     "name": "stdout",
     "output_type": "stream",
     "text": [
      "Enter a,b,c:1,2,1\n",
      "The root is -1.0\n"
     ]
    }
   ],
   "source": [
    "import math\n",
    "a,b,c = eval(input(\"Enter a,b,c:\"))\n",
    "m=math.pow(b,2)-4*a*c\n",
    "if m>0:\n",
    "    r1 = (-1*b+math.sqrt(b**2-4*a*c))/2*a\n",
    "    r2 = (-1*b+math.sqrt(b**2-4*a*c))/2*a\n",
    "    print(\"The roots are \"+r1,r2)\n",
    "elif m==0:\n",
    "    r = (-1*b+math.sqrt(b**2-4*a*c))/2*a\n",
    "    print(\"The root is \"+str(r))\n",
    "else :\n",
    "    print(\"The equation has no real roots\")\n",
    "    "
   ]
  },
  {
   "cell_type": "markdown",
   "metadata": {},
   "source": [
    "- 2\n",
    "![](../Photo/43.png)"
   ]
  },
  {
   "cell_type": "code",
   "execution_count": 6,
   "metadata": {},
   "outputs": [
    {
     "name": "stdout",
     "output_type": "stream",
     "text": [
      "2\n",
      "18\n",
      "20\n",
      "请输入你的答案20\n",
      "恭喜您回答正确！\n"
     ]
    }
   ],
   "source": [
    "import random\n",
    "a = random.randint(0,99)\n",
    "b = random.randint(0,99)\n",
    "c = a+b\n",
    "print(a)\n",
    "print(b)\n",
    "print(c)\n",
    "mun =eval(input(\"请输入你的答案\"))\n",
    "if mun==c:\n",
    "    print(\"恭喜您回答正确！\")\n",
    "else:\n",
    "    print(\"遗憾回答错误！\")\n",
    "  "
   ]
  },
  {
   "cell_type": "markdown",
   "metadata": {},
   "source": [
    "- 3\n",
    "![](../Photo/44.png)"
   ]
  },
  {
   "cell_type": "code",
   "execution_count": 18,
   "metadata": {},
   "outputs": [
    {
     "name": "stdout",
     "output_type": "stream",
     "text": [
      "Enter today's day:0\n",
      "Enter the munber of days elapsed since today:7\n",
      "Today is星期日and the future 7is Sunday\n"
     ]
    }
   ],
   "source": [
    "d = eval(input(\"Enter today's day:\"))\n",
    "t = eval(input(\"Enter the munber of days elapsed since today:\"))\n",
    "m =  d+t\n",
    "if d==0:\n",
    "    a =\"星期日\"\n",
    "elif d==1:\n",
    "    a=\"星期一\"\n",
    "elif d==2:\n",
    "    a=(\"星期二\")\n",
    "elif d==3:\n",
    "    a=(\"星期三\")\n",
    "elif d==4:\n",
    "    a=(\"星期四\")\n",
    "elif d==5:\n",
    "    a=(\"星期五\")\n",
    "elif d==6:\n",
    "    a=(\"星期六\")\n",
    "if m%7==0:\n",
    "    print( \"Today is\"+str(a)+\"and the future \"+str(t)+\"is Sunday\")\n",
    "elif m%7==1:\n",
    "    print( \"Today is\"+str(a)+\"and the future \"+str(t)+\"is Monday\")\n",
    "elif m%7==2:\n",
    "    print( \"Today is\"+str(a)+\"and the future \"+str(t)+\"is Tuesday\")\n",
    "elif m%7==3:\n",
    "    print( \"Today is\"+str(a)+\"and the future \"+str(t)+\"is Wednesday\")\n",
    "elif m%7==4:\n",
    "    print( \"Today is\"+str(a)+\"and the future \"+str(t)+\"is Thursday\")\n",
    "elif m%7==5:\n",
    "    print( \"Today is\"+str(a)+\"and the future \"+str(t)+\"is Firday\")\n",
    "elif m%7==6:\n",
    "    print( \"Today is\"+str(a)+\"and the future \"+str(t)+\"is Saturday\")\n"
   ]
  },
  {
   "cell_type": "markdown",
   "metadata": {},
   "source": [
    "- 4\n",
    "![](../Photo/45.png)"
   ]
  },
  {
   "cell_type": "code",
   "execution_count": 27,
   "metadata": {},
   "outputs": [
    {
     "name": "stdout",
     "output_type": "stream",
     "text": [
      "请输入三个数：5,9,3\n",
      "[3, 5, 9]\n"
     ]
    }
   ],
   "source": [
    "a,b,c = eval(input(\"请输入三个数：\"))\n",
    "d=[a,b,c]\n",
    "d.sort()\n",
    "print(d)"
   ]
  },
  {
   "cell_type": "markdown",
   "metadata": {},
   "source": [
    "- 5\n",
    "![](../Photo/46.png)"
   ]
  },
  {
   "cell_type": "code",
   "execution_count": 30,
   "metadata": {},
   "outputs": [
    {
     "name": "stdout",
     "output_type": "stream",
     "text": [
      "Enter weight and price for package 1:50,24.59\n",
      "Enter weight and price for package 2:25,11.99\n",
      "Package 2 has the better price.\n"
     ]
    }
   ],
   "source": [
    "aw,ap = eval(input(\"Enter weight and price for package 1:\"))\n",
    "bw,bp = eval(input(\"Enter weight and price for package 2:\"))\n",
    "a = aw/ap\n",
    "b = bw/bp\n",
    "if a>b:\n",
    "     print(\"Package \"+str(1)+\" has the better price.\")\n",
    "else:\n",
    "    print(\"Package \"+str(2)+\" has the better price.\")"
   ]
  },
  {
   "cell_type": "markdown",
   "metadata": {},
   "source": [
    "- 6\n",
    "![](../Photo/47.png)"
   ]
  },
  {
   "cell_type": "code",
   "execution_count": 34,
   "metadata": {},
   "outputs": [
    {
     "name": "stdout",
     "output_type": "stream",
     "text": [
      "请输入月份：4\n",
      "请输入年份：2015\n",
      "2015 年 4 月有30天\n"
     ]
    }
   ],
   "source": [
    "month = eval(input(\"请输入月份：\"))\n",
    "year = eval(input(\"请输入年份：\"))\n",
    "da = [1,3,5,7,10,12]\n",
    "xiao = [4,6,8,9,11]\n",
    "if (month in da):\n",
    "    print(year,\"年\",month,\"月有31天\")\n",
    "elif (month in xiao):\n",
    "    print(year,\"年\",month,\"月有30天\")\n",
    "else:\n",
    "    if (year%4==0 and year%100!=0) or (year%400==0):\n",
    "        print(year,\"年为闰年\",month,\"月有29天\")\n",
    "        \n",
    "    else:\n",
    "        print(year,\"年为平年\",month,\"月有28天\")\n",
    "    \n"
   ]
  },
  {
   "cell_type": "markdown",
   "metadata": {},
   "source": [
    "- 7\n",
    "![](../Photo/48.png)"
   ]
  },
  {
   "cell_type": "code",
   "execution_count": 39,
   "metadata": {},
   "outputs": [
    {
     "name": "stdout",
     "output_type": "stream",
     "text": [
      "请输入一个猜测值(1代表正面，0代表反面)：1\n",
      "恭喜您猜对了！\n"
     ]
    },
    {
     "data": {
      "text/plain": [
       "'dfsdfdf'"
      ]
     },
     "execution_count": 39,
     "metadata": {},
     "output_type": "execute_result"
    }
   ],
   "source": [
    "mun = eval(input(\"请输入一个猜测值(1代表正面，0代表反面)：\"))\n",
    "a = random.randint(0,1)\n",
    "if mun==a:\n",
    "    print(\"恭喜您猜对了！\")\n",
    "else:\n",
    "    print(\"遗憾您猜错了！\")\n",
    "\"\"\"dfsdfdf\"\"\""
   ]
  },
  {
   "cell_type": "markdown",
   "metadata": {},
   "source": [
    "- 8\n",
    "![](../Photo/49.png)"
   ]
  },
  {
   "cell_type": "code",
   "execution_count": 72,
   "metadata": {},
   "outputs": [
    {
     "name": "stdout",
     "output_type": "stream",
     "text": [
      "scissor(0),rock(1),paper(2):2\n",
      "0\n",
      "The compuer is scissor.You are paper.You lose\n"
     ]
    }
   ],
   "source": [
    "mun = eval(input(\"scissor(0),rock(1),paper(2):\"))\n",
    "a = random.randint(0,2)\n",
    "print(a)\n",
    "if a==mun:\n",
    "    if a==mun==0:\n",
    "        print(\"he computer is scissor. You are scissor too.Tt is a draw\")\n",
    "    elif a==mun==1:\n",
    "        print(\"he computer is rock. You are rock too.Tt is a draw\")    \n",
    "    else:\n",
    "        print(\"The computer is paper. You are paper too.Tt is a draw.\")\n",
    "elif a>mun:\n",
    "    if a==1 and mun==0:\n",
    "        print(\"The compuer is rock.You are scissor.You lose\")\n",
    "    elif a==2 and mun==0:\n",
    "        print(\"The compuer is paper.You are scissor.You won\")\n",
    "    else:\n",
    "        print(\"The compuer is paper.You are rock.You lose\")\n",
    "elif a<mun:\n",
    "    if a==0 and mun ==1:\n",
    "        print(\"The compuer is scissor.You are rock.You won\")\n",
    "    elif a==0 and mun==2:\n",
    "        print(\"The compuer is scissor.You are paper.You lose\")\n",
    "    elif a==1 and mun==2:\n",
    "       print(\"The compuer is rock.You are paper.You won\")"
   ]
  },
  {
   "cell_type": "markdown",
   "metadata": {},
   "source": [
    "- 9\n",
    "![](../Photo/50.png)"
   ]
  },
  {
   "cell_type": "markdown",
   "metadata": {},
   "source": [
    "- 10\n",
    "![](../Photo/51.png)"
   ]
  },
  {
   "cell_type": "markdown",
   "metadata": {},
   "source": [
    "- 11\n",
    "![](../Photo/52.png)"
   ]
  },
  {
   "cell_type": "code",
   "execution_count": 79,
   "metadata": {},
   "outputs": [
    {
     "name": "stdout",
     "output_type": "stream",
     "text": [
      "请输入一个三位数：121\n",
      "121这个数是回文\n"
     ]
    }
   ],
   "source": [
    "mun = (input(\"请输入一个三位数：\"))\n",
    "if mun[0]==mun[2]:\n",
    "    print(str(mun)+\"这个数是回文\")\n",
    "else:\n",
    "    print(\"这个数不是回文\")"
   ]
  },
  {
   "cell_type": "markdown",
   "metadata": {},
   "source": [
    "- 12\n",
    "![](../Photo/53.png)"
   ]
  },
  {
   "cell_type": "code",
   "execution_count": 82,
   "metadata": {},
   "outputs": [
    {
     "name": "stdout",
     "output_type": "stream",
     "text": [
      "Enter three edges:1,1,1\n",
      "它的周长是3\n"
     ]
    }
   ],
   "source": [
    "a,b,c = eval(input(\"Enter three edges:\"))\n",
    "\n",
    "if (a+b>c)and(a+c>b)and(b+c>a):\n",
    "    l=a+b+c\n",
    "    print(\"它的周长是\"+str(l))\n",
    "else:\n",
    "    print(\"这个输入是非法的\")"
   ]
  }
 ],
 "metadata": {
  "kernelspec": {
   "display_name": "Python 3",
   "language": "python",
   "name": "python3"
  },
  "language_info": {
   "codemirror_mode": {
    "name": "ipython",
    "version": 3
   },
   "file_extension": ".py",
   "mimetype": "text/x-python",
   "name": "python",
   "nbconvert_exporter": "python",
   "pygments_lexer": "ipython3",
   "version": "3.6.4"
  }
 },
 "nbformat": 4,
 "nbformat_minor": 2
}
